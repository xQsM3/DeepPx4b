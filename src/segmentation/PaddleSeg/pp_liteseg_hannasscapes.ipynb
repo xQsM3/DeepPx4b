{
 "cells": [
  {
   "cell_type": "code",
   "execution_count": null,
   "metadata": {},
   "outputs": [
    {
     "name": "stdout",
     "output_type": "stream",
     "text": [
      "Found existing installation: paddlepaddle 2.3.1\n",
      "Uninstalling paddlepaddle-2.3.1:\n",
      "  Would remove:\n",
      "    /home/linx123-rtx/anaconda3/envs/paddleseg/bin/fleetrun\n",
      "    /home/linx123-rtx/anaconda3/envs/paddleseg/bin/paddle\n",
      "    /home/linx123-rtx/anaconda3/envs/paddleseg/lib/python3.10/site-packages/_foo.cpython-310-x86_64-linux-gnu.so\n",
      "    /home/linx123-rtx/anaconda3/envs/paddleseg/lib/python3.10/site-packages/paddle/*\n",
      "    /home/linx123-rtx/anaconda3/envs/paddleseg/lib/python3.10/site-packages/paddlepaddle-2.3.1.dist-info/*\n",
      "  Would not remove (might be manually added):\n",
      "    /home/linx123-rtx/anaconda3/envs/paddleseg/lib/python3.10/site-packages/paddle/include/third_party/externalError/data/externalErrorMsg.pb\n",
      "Proceed (Y/n)? "
     ]
    }
   ],
   "source": [
    "!pip uninstall paddlepaddle"
   ]
  },
  {
   "cell_type": "code",
   "execution_count": 2,
   "metadata": {},
   "outputs": [],
   "source": [
    "# tutorial API: https://github.com/PaddlePaddle/PaddleSeg/blob/release/2.6/docs/api_example.md\n",
    "from paddleseg.models import PPLiteSeg"
   ]
  },
  {
   "cell_type": "code",
   "execution_count": 11,
   "metadata": {},
   "outputs": [],
   "source": [
    "from paddleseg.models.backbones import STDC1\n",
    "model = PPLiteSeg(num_classes=2,\n",
    "                  arm_out_chs=[32,64,]\n",
    "                  backbone=STDC1(),\n",
    "                 pretrained=None)"
   ]
  },
  {
   "cell_type": "code",
   "execution_count": 19,
   "metadata": {},
   "outputs": [],
   "source": [
    "# create random train,val,test distribution of dataset\n",
    "import os\n",
    "import glob\n",
    "from random import shuffle\n",
    "dataset_root = \"/media/linx123-rtx/Elements/Drone_Vision_Datasets/Hannasscapes_small/\"\n",
    "images = glob.glob(os.path.join(dataset_root,\"texture\",\"*.png\"))\n",
    "shuffle(images)\n",
    "n = len(images)\n",
    "sets = [\"train\",\"val\",\"test\"]\n",
    "train_images = images[:(n//100*75)]\n",
    "val_images = images[(n//100*75):n//100*90]\n",
    "test_images = images[(n//100*90):]\n",
    "im_sets = {\"train\":train_images,\"val\":val_images,\"test\":test_images}\n",
    "\n",
    "for s in sets:\n",
    "    lines = []\n",
    "    for image in im_sets[s]:\n",
    "        image_name = image.split(\"/\")[-1]\n",
    "        line = f\"texture/{image_name} annotations/{image_name}\\n\"\n",
    "        lines.append(line)\n",
    "    with open(os.path.join(dataset_root,f\"{s}_list.txt\"), \"w\") as f:\n",
    "        f.writelines(lines)"
   ]
  },
  {
   "cell_type": "code",
   "execution_count": 22,
   "metadata": {},
   "outputs": [],
   "source": [
    "# build transforms for training\n",
    "import paddleseg.transforms as T\n",
    "transforms = [\n",
    "    T.Resize(target_size=(1024,512)),\n",
    "    T.RandomHorizontalFlip(),\n",
    "    T.Normalize()\n",
    "]\n",
    "# build train dataset: https://github.com/PaddlePaddle/PaddleSeg/blob/release/2.6/docs/apis/datasets/datasets.md#custom-dataset\n",
    "from paddleseg.datasets import Dataset\n",
    "dataset_root = \"/media/linx123-rtx/Elements/Drone_Vision_Datasets/Hannasscapes_small/\"\n",
    "train_path = \"/media/linx123-rtx/Elements/Drone_Vision_Datasets/Hannasscapes_small/train_list.txt\"\n",
    "val_path = \"/media/linx123-rtx/Elements/Drone_Vision_Datasets/Hannasscapes_small/val_list.txt\"\n",
    "num_classes = 2\n",
    "\n",
    "dataset = Dataset(transforms = transforms,\n",
    "                 dataset_root=dataset_root,\n",
    "                 num_classes=num_classes,\n",
    "                 train_path= train_path,\n",
    "                 mode = \"train\")\n",
    "\n",
    "transforms = [\n",
    "    T.Resize(target_size=(1024,512)),\n",
    "    T.Normalize()\n",
    "]\n",
    "# build validation dataset\n",
    "val_dataset = Dataset(dataset_root=dataset_root,\n",
    "                      transforms = transforms,\n",
    "                      num_classes=num_classes,\n",
    "                      val_path=val_path,\n",
    "                      mode = \"val\")"
   ]
  },
  {
   "cell_type": "code",
   "execution_count": 23,
   "metadata": {},
   "outputs": [],
   "source": [
    "# optimizer \n",
    "import paddle\n",
    "base_lr = 0.005\n",
    "lr = paddle.optimizer.lr.PolynomialDecay(base_lr,power=0.9,decay_steps=1000,end_lr=0)\n",
    "\n",
    "optimizer = paddle.optimizer.Momentum(lr,parameters=model.parameters(),momentum=0.9,weight_decay=4.0e-5)"
   ]
  },
  {
   "cell_type": "code",
   "execution_count": 31,
   "metadata": {},
   "outputs": [],
   "source": [
    "# floss function\n",
    "from paddleseg.models.losses import OhemCrossEntropyLoss\n",
    "\n",
    "losses = {}\n",
    "losses[\"types\"] = [OhemCrossEntropyLoss(min_kept=130000)] * 3\n",
    "losses[\"coef\"] = [1, 1, 1]"
   ]
  },
  {
   "cell_type": "code",
   "execution_count": 1,
   "metadata": {
    "scrolled": true
   },
   "outputs": [
    {
     "data": {
      "text/plain": [
       "0"
      ]
     },
     "execution_count": 1,
     "metadata": {},
     "output_type": "execute_result"
    }
   ],
   "source": [
    "import os\n",
    "os.system(\"export CUDA_VISIBLE_DEVICES=0\")"
   ]
  },
  {
   "cell_type": "code",
   "execution_count": null,
   "metadata": {},
   "outputs": [
    {
     "name": "stderr",
     "output_type": "stream",
     "text": [
      "/home/linx123-rtx/PaddleSeg/paddleseg/models/losses/decoupledsegnet_relax_boundary_loss.py:19: DeprecationWarning: Please use `shift` from the `scipy.ndimage` namespace, the `scipy.ndimage.interpolation` namespace is deprecated.\n",
      "  from scipy.ndimage.interpolation import shift\n",
      "/home/linx123-rtx/PaddleSeg/paddleseg/transforms/functional.py:18: DeprecationWarning: Please use `distance_transform_edt` from the `scipy.ndimage` namespace, the `scipy.ndimage.morphology` namespace is deprecated.\n",
      "  from scipy.ndimage.morphology import distance_transform_edt\n"
     ]
    },
    {
     "name": "stdout",
     "output_type": "stream",
     "text": [
      "2022-08-04 20:03:50 [INFO]\t\n",
      "------------Environment Information-------------\n",
      "platform: Linux-5.4.0-122-generic-x86_64-with-glibc2.31\n",
      "Python: 3.10.4 (main, Mar 31 2022, 08:41:55) [GCC 7.5.0]\n",
      "Paddle compiled with cuda: False\n",
      "GCC: gcc (Ubuntu 11.1.0-1ubuntu1~20.04) 11.1.0\n",
      "PaddleSeg: 2.5.0\n",
      "PaddlePaddle: 2.3.1\n",
      "OpenCV: 4.6.0\n",
      "------------------------------------------------\n",
      "[INFO] set device to cpu\n",
      "2022-08-04 20:03:50 [INFO]\t\n",
      "---------------Config Information---------------\n",
      "batch_size: 4\n",
      "iters: 160000\n",
      "loss:\n",
      "  coef:\n",
      "  - 1\n",
      "  - 1\n",
      "  - 1\n",
      "  types:\n",
      "  - ignore_index: 255\n",
      "    min_kept: 130000\n",
      "    type: OhemCrossEntropyLoss\n",
      "  - ignore_index: 255\n",
      "    min_kept: 130000\n",
      "    type: OhemCrossEntropyLoss\n",
      "  - ignore_index: 255\n",
      "    min_kept: 130000\n",
      "    type: OhemCrossEntropyLoss\n",
      "lr_scheduler:\n",
      "  end_lr: 0\n",
      "  learning_rate: 0.005\n",
      "  power: 0.9\n",
      "  type: PolynomialDecay\n",
      "  warmup_iters: 1000\n",
      "  warmup_start_lr: 1.0e-05\n",
      "model:\n",
      "  arm_out_chs:\n",
      "  - 32\n",
      "  - 64\n",
      "  - 128\n",
      "  backbone:\n",
      "    pretrained: https://bj.bcebos.com/paddleseg/dygraph/PP_STDCNet1.tar.gz\n",
      "    type: STDC1\n",
      "  seg_head_inter_chs:\n",
      "  - 32\n",
      "  - 64\n",
      "  - 64\n",
      "  type: PPLiteSeg\n",
      "optimizer:\n",
      "  momentum: 0.9\n",
      "  type: sgd\n",
      "  weight_decay: 0.0005\n",
      "test_config:\n",
      "  aug_eval: true\n",
      "  scales: 0.5\n",
      "train_dataset:\n",
      "  dataset_root: /media/linx123-rtx/Elements/Drone_Vision_Datasets/Hannasscapes_small\n",
      "  mode: train\n",
      "  num_classes: 4\n",
      "  train_path: /media/linx123-rtx/Elements/Drone_Vision_Datasets/Hannasscapes_small/train_list.txt\n",
      "  transforms:\n",
      "  - max_scale_factor: 1.5\n",
      "    min_scale_factor: 0.125\n",
      "    scale_step_size: 0.125\n",
      "    type: ResizeStepScaling\n",
      "  - crop_size:\n",
      "    - 1024\n",
      "    - 512\n",
      "    type: RandomPaddingCrop\n",
      "  - type: RandomHorizontalFlip\n",
      "  - brightness_range: 0.5\n",
      "    contrast_range: 0.5\n",
      "    saturation_range: 0.5\n",
      "    type: RandomDistort\n",
      "  - type: Normalize\n",
      "  type: Dataset\n",
      "val_dataset:\n",
      "  dataset_root: /media/linx123-rtx/Elements/Drone_Vision_Datasets/Hannasscapes_small\n",
      "  mode: val\n",
      "  num_classes: 4\n",
      "  transforms:\n",
      "  - type: Normalize\n",
      "  type: Dataset\n",
      "  val_path: /media/linx123-rtx/Elements/Drone_Vision_Datasets/Hannasscapes_small/val_list.txt\n",
      "------------------------------------------------\n",
      "2022-08-04 20:03:51 [INFO]\tLoading pretrained model from https://bj.bcebos.com/paddleseg/dygraph/PP_STDCNet1.tar.gz\n",
      "2022-08-04 20:03:51 [INFO]\tThere are 145/145 variables loaded into STDCNet.\n"
     ]
    },
    {
     "name": "stderr",
     "output_type": "stream",
     "text": [
      "/home/linx123-rtx/anaconda3/envs/paddleseg/lib/python3.10/site-packages/paddle/nn/layer/norm.py:653: UserWarning: When training, we now always track global mean and variance.\n",
      "  warnings.warn(\n",
      "/home/linx123-rtx/anaconda3/envs/paddleseg/lib/python3.10/site-packages/paddle/fluid/dygraph/math_op_patch.py:276: UserWarning: The dtype of left and right variables are not the same, left dtype is paddle.float32, but right dtype is paddle.int64, the right dtype will convert to paddle.float32\n",
      "  warnings.warn(\n"
     ]
    }
   ],
   "source": [
    "# TRAIN\n",
    "import os\n",
    "os.system('''python train.py \\\n",
    "--config /home/linx123-rtx/PaddleSeg/configs/pp_liteseg/pp_liteseg_stdc1_hannasscapes_small_1024x512_scale0.5_160k.yml \\\n",
    "--do_eval \\\n",
    "--use_vdl \\\n",
    "--save_interval 500 \\\n",
    "--save_dir output/pp_liteset_hannascapes''')"
   ]
  },
  {
   "cell_type": "code",
   "execution_count": null,
   "metadata": {},
   "outputs": [],
   "source": []
  }
 ],
 "metadata": {
  "kernelspec": {
   "display_name": "paddleseg",
   "language": "python",
   "name": "paddleseg"
  },
  "language_info": {
   "codemirror_mode": {
    "name": "ipython",
    "version": 3
   },
   "file_extension": ".py",
   "mimetype": "text/x-python",
   "name": "python",
   "nbconvert_exporter": "python",
   "pygments_lexer": "ipython3",
   "version": "3.10.4"
  }
 },
 "nbformat": 4,
 "nbformat_minor": 4
}
